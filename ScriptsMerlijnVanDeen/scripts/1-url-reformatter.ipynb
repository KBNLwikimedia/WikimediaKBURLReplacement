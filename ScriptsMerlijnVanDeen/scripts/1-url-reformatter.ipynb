{
 "cells": [
  {
   "cell_type": "code",
   "execution_count": 2,
   "metadata": {},
   "outputs": [],
   "source": [
    "# https://web.archive.org/web/20200522204706/https://merlijn.vandeen.nl/2015/kb-replace-dead-links.html\n",
    "# hervorm 'urls.txt' tot 'nlpages.txt' en 'otherpages.txt'\n",
    "\n",
    "import re\n",
    "\n",
    "matcher = re.compile(r\".*?//(\\w+)\\..*?/wiki/(.*)\")\n",
    "\n",
    "nlout = open('nlpages.txt', 'w')\n",
    "oout = open('otherpages.txt', 'w')\n",
    "\n",
    "for line in open('urls.txt'):\n",
    "    line = line.strip()\n",
    "    match = matcher.match(line)\n",
    "    if not match:\n",
    "        print(\"Failed to match\", line)\n",
    "    else:\n",
    "        lang, pagename = match.groups()\n",
    "        line = \"[[%s:%s]]\\n\" % (lang, pagename)\n",
    "        if lang == \"nl\":\n",
    "            nlout.write(line)\n",
    "        else:\n",
    "            oout.write(line)"
   ]
  },
  {
   "cell_type": "code",
   "execution_count": null,
   "metadata": {},
   "outputs": [],
   "source": []
  },
  {
   "cell_type": "code",
   "execution_count": null,
   "metadata": {},
   "outputs": [],
   "source": []
  }
 ],
 "metadata": {
  "kernelspec": {
   "display_name": "Python 3",
   "language": "python",
   "name": "python3"
  },
  "language_info": {
   "codemirror_mode": {
    "name": "ipython",
    "version": 3
   },
   "file_extension": ".py",
   "mimetype": "text/x-python",
   "name": "python",
   "nbconvert_exporter": "python",
   "pygments_lexer": "ipython3",
   "version": "3.6.7"
  }
 },
 "nbformat": 4,
 "nbformat_minor": 2
}
